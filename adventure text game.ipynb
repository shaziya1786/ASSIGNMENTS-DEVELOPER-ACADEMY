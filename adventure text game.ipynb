{
 "cells": [
  {
   "attachments": {},
   "cell_type": "markdown",
   "metadata": {},
   "source": [
    "Project Brief\n",
    "Remember Adventure? Well, we’re going to build a more basic version of that. A complete text\n",
    "game, the program will let users move through rooms based on user input and get descriptions\n",
    "of each room. To create this, you’ll need to establish the direction in which the user can move, a\n",
    "way to track how far the user has moved (and therefore which room he/she is in), and to print\n",
    "out a description. You’ll also need to set limits for how far the user can move. In other words,\n",
    "create “walls” around the rooms that tell the user, “You can’t move further in this direction.”"
   ]
  },
  {
   "cell_type": "code",
   "execution_count": 7,
   "metadata": {},
   "outputs": [
    {
     "name": "stdout",
     "output_type": "stream",
     "text": [
      "WELCOME TO THE ADVENTURE GAME!\n",
      "As you have decided to visit this adventure land /nchoose to walk in multiple directions to find a way out.\n",
      "Let's start with your name: \n",
      "Good luck shaz \n",
      "\n",
      "You are in an empty room.\n",
      "The stone floors and walls are cold and damp.\n",
      "I don't understand that command.\n",
      "\n",
      "You are in an empty room.\n",
      "The stone floors and walls are cold and damp.\n",
      "I don't understand that command.\n",
      "\n",
      "You are in an empty room.\n",
      "The stone floors and walls are cold and damp.\n",
      "\n",
      "You are in a small reading room.\n",
      "There are benches facing a small window.\n"
     ]
    }
   ],
   "source": [
    "##A text adventure using if/elif statements; program having four rooms in a two by two grid to move around in.\n",
    "\n",
    "##start the game by printing initial scene\n",
    "print(\"\"\"WELCOME TO THE ADVENTURE GAME!\"\"\")\n",
    "print(\"As you have decided to visit this adventure land /nchoose to walk in multiple directions to find a way out.\")\n",
    "print(\"Let's start with your name: \")\n",
    "name = input()  #asking the user to enter name\n",
    "print(\"Good luck {} \".format(name))  \n",
    "\n",
    "#starting with user in the current_room\n",
    "current_room = 'empty'\n",
    " \n",
    "# game loop\n",
    "while True:\n",
    "    # display room contents\n",
    "    print()\n",
    "    if current_room == 'empty':\n",
    "        print('You are in an empty room.')\n",
    "        print('The stone floors and walls are cold and damp.')\n",
    "    elif current_room == 'reading':\n",
    "        print('You are in a small reading room.')\n",
    "        print('There are benches facing a small window.')\n",
    "    elif current_room == 'dining':\n",
    "        print('You are in a dining hall.')\n",
    "        print('There is a rack and table and chairs against the wall of the room')\n",
    "        print('and you can exit to the garden from here.')\n",
    "    elif current_room == 'bedroom':\n",
    "        print('You are in a bedroom.')\n",
    "        print('There is a large bed with black, silk sheets on it.')\n",
    "    \n",
    "    # get user input to ask for the direction where he want to move\n",
    "    direction = input('Where do you want to move? ')  \n",
    "   \n",
    "    # # Updating the current room based on the player's move if/else , if/elif/else nested statements\n",
    "    if direction.lower() in ('n', 'north'):\n",
    "        if current_room == 'empty':\n",
    "            current_room = 'reading'\n",
    "        elif current_room == 'bedroom':\n",
    "            current_room = 'dining'\n",
    "        else:\n",
    "            print()\n",
    "            print(\"There is a wall \\n You can't go that way.\")\n",
    "    elif direction.lower() in ('s', 'south'): #covert the input in lowercase \n",
    "        if current_room == 'reading':\n",
    "            current_room = 'empty'\n",
    "        elif current_room == 'dining':\n",
    "            current_room = 'bedroom'\n",
    "        else:\n",
    "            print()\n",
    "            print(\"there is a wall \\n You can't go that way.\")\n",
    "    elif direction.lower() in ('e', 'east'):\n",
    "        if current_room == 'empty':\n",
    "            current_room = 'bedroom'\n",
    "        elif current_room == 'reading':\n",
    "            current_room = 'dining'\n",
    "        else:\n",
    "            print()\n",
    "            print(\"there is a wall \\n You can't go that way.\")\n",
    "    elif direction.lower() in ('w', 'west'):\n",
    "        if current_room == 'bedroom':\n",
    "            current_room = 'empty'\n",
    "        elif current_room == 'dining':\n",
    "            current_room = 'reading'\n",
    "        else:\n",
    "            print()\n",
    "            print(\"There is a wall \\n You can't go that way\")\n",
    "    \n",
    "    # quit game\n",
    "    elif direction.lower() in ('q', 'quit'):\n",
    "        break\n",
    "   \n",
    "    # bad command\n",
    "    else:\n",
    "        print(\"I don't understand that command.\")"
   ]
  }
 ],
 "metadata": {
  "kernelspec": {
   "display_name": "Python 3",
   "language": "python",
   "name": "python3"
  },
  "language_info": {
   "codemirror_mode": {
    "name": "ipython",
    "version": 3
   },
   "file_extension": ".py",
   "mimetype": "text/x-python",
   "name": "python",
   "nbconvert_exporter": "python",
   "pygments_lexer": "ipython3",
   "version": "3.10.9 (tags/v3.10.9:1dd9be6, Dec  6 2022, 20:01:21) [MSC v.1934 64 bit (AMD64)]"
  },
  "orig_nbformat": 4,
  "vscode": {
   "interpreter": {
    "hash": "3f09339c861e2862702f1f2b08dbbc980c54871604f85fec92bbb47a7afd93b2"
   }
  }
 },
 "nbformat": 4,
 "nbformat_minor": 2
}
