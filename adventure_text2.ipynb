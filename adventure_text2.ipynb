{
 "cells": [
  {
   "cell_type": "code",
   "execution_count": 1,
   "metadata": {},
   "outputs": [
    {
     "name": "stdout",
     "output_type": "stream",
     "text": [
      "WELCOME TO THE ADVENTURE GAME!\n",
      "As you have decided to visit this adventure land /nchoose to walk in multiple directions to find a way out.\n",
      "Let's start with your name: \n",
      "Good luck shaz \n",
      "\n",
      "You are in an empty room.\n",
      "The stone floors and walls are cold and damp.\n",
      "I don't understand that command.\n",
      "\n",
      "You are in an empty room.\n",
      "The stone floors and walls are cold and damp.\n",
      "\n",
      "You are in a small reading room.\n",
      "There are  row of benches facing a small window.\n",
      "\n",
      "You are in a dining hall.\n",
      "There is a rack and an iron maiden against the wall\n",
      "and  you can exit to the garden from here.\n",
      "\n",
      "You are in a bedroom.\n",
      "There is a large bed with black, silk sheets on it.\n"
     ]
    }
   ],
   "source": [
    "##A text adventure using dictionary; program having four rooms in a two by two grid to move around in.\n",
    "\n",
    "##start the game by printing initial scene\n",
    "print(\"\"\"WELCOME TO THE ADVENTURE GAME!\"\"\")\n",
    "print(\"As you have decided to visit this adventure land /nchoose to walk in multiple directions to find a way out.\")\n",
    "print(\"Let's start with your name: \")\n",
    "name = input()\n",
    "print(\"Good luck {} \".format(name))\n",
    "\n",
    "#data setup\n",
    "rooms = {'empty': {'name': 'an empty room', 'east': 'bedroom', 'north': 'reading',\n",
    "        'text': 'The stone floors and walls are cold and damp.'},\n",
    "    'reading': {'name': 'a small reading room', 'east': 'dining', 'south': 'empty',\n",
    "        'text': 'There are  row of benches facing a small window.'},\n",
    "    'dining': {'name': 'a dining hall', 'west': 'reading', 'south': 'bedroom',\n",
    "        'text': 'There is a rack and an iron maiden against the wall\\nand  you can exit to the garden from here.'},\n",
    "    'bedroom': {'name': 'a bedroom', 'north': 'dining', 'west': 'empty',\n",
    "        'text': 'There is a large bed with black, silk sheets on it.'}}\n",
    "directions = ['north', 'south', 'east', 'west']\n",
    "current_room = rooms['empty']\n",
    " \n",
    "# game loop\n",
    "while True:\n",
    "    # display current location\n",
    "    print()\n",
    "    print('You are in {}.'.format(current_room['name']))\n",
    "    print(current_room['text'])\n",
    "    # get user input\n",
    "    command = input('\\nWere do you want to move? ').strip()\n",
    "    # movement\n",
    "    if command in directions:\n",
    "        if command in current_room:\n",
    "            current_room = rooms[current_room[command]]\n",
    "        else:\n",
    "            # bad movement\n",
    "            print(\"You can't go that way. There is wall in that direction\")\n",
    "    # quit game\n",
    "    elif command.lower() in ('q', 'quit'):\n",
    "        break\n",
    "    # bad command\n",
    "    else:\n",
    "        print(\"I don't understand that command.\")"
   ]
  }
 ],
 "metadata": {
  "kernelspec": {
   "display_name": "Python 3",
   "language": "python",
   "name": "python3"
  },
  "language_info": {
   "codemirror_mode": {
    "name": "ipython",
    "version": 3
   },
   "file_extension": ".py",
   "mimetype": "text/x-python",
   "name": "python",
   "nbconvert_exporter": "python",
   "pygments_lexer": "ipython3",
   "version": "3.10.9"
  },
  "orig_nbformat": 4,
  "vscode": {
   "interpreter": {
    "hash": "3f09339c861e2862702f1f2b08dbbc980c54871604f85fec92bbb47a7afd93b2"
   }
  }
 },
 "nbformat": 4,
 "nbformat_minor": 2
}
