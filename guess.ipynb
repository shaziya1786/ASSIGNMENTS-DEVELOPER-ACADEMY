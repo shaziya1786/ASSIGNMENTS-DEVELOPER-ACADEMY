{
 "cells": [
  {
   "cell_type": "code",
   "execution_count": 2,
   "metadata": {},
   "outputs": [
    {
     "name": "stdout",
     "output_type": "stream",
     "text": [
      "too low\n",
      "too low\n",
      "too low\n",
      "too low\n",
      "too low\n",
      "too low\n",
      "too low\n",
      "too low\n",
      "too high\n",
      "too low\n",
      "You got it!\n"
     ]
    }
   ],
   "source": [
    "import random\n",
    "it=random.randint(0, 101)\n",
    "def guess():\n",
    "    x=int(input('Guess a number one through one hundred'))\n",
    "    if x == it:\n",
    "        print(\"You got it!\")\n",
    "    elif x > it:\n",
    "        print(\"too high\")\n",
    "        guess()\n",
    "    else:\n",
    "        print(\"too low\")\n",
    "        guess()\n",
    "guess()"
   ]
  },
  {
   "cell_type": "code",
   "execution_count": 4,
   "metadata": {},
   "outputs": [
    {
     "name": "stdout",
     "output_type": "stream",
     "text": [
      "too high\n",
      "too high\n",
      "too high\n",
      "too high\n",
      "You got it!\n"
     ]
    }
   ],
   "source": [
    "import random\n",
    "num = random.randint(0, 101)\n",
    "def guess1():\n",
    "    while True:\n",
    "        y = int(input('Guess a number one through one hundred: '))\n",
    "        if y == num:\n",
    "            print(\"You got it!\")\n",
    "            break\n",
    "        elif y > num:\n",
    "            print(\"too high\")\n",
    "        else:\n",
    "            print(\"too low\")\n",
    "guess1()"
   ]
  }
 ],
 "metadata": {
  "kernelspec": {
   "display_name": "Python 3",
   "language": "python",
   "name": "python3"
  },
  "language_info": {
   "codemirror_mode": {
    "name": "ipython",
    "version": 3
   },
   "file_extension": ".py",
   "mimetype": "text/x-python",
   "name": "python",
   "nbconvert_exporter": "python",
   "pygments_lexer": "ipython3",
   "version": "3.10.9"
  },
  "orig_nbformat": 4,
  "vscode": {
   "interpreter": {
    "hash": "3f09339c861e2862702f1f2b08dbbc980c54871604f85fec92bbb47a7afd93b2"
   }
  }
 },
 "nbformat": 4,
 "nbformat_minor": 2
}
