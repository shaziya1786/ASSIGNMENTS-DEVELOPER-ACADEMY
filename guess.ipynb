{
 "cells": [
  {
   "attachments": {},
   "cell_type": "markdown",
   "metadata": {},
   "source": [
    "ASSIGNMENT 2:\n",
    "This project uses the random module in Python. The program will first randomly generate a\n",
    "number unknown to the user. The user needs to guess what that number is. (In other words, the\n",
    "user needs to be able to input information.) If the user’s guess is wrong, the program should\n",
    "return some sort of indication as to how wrong (e.g. The number is too high or too low). If the\n",
    "user guesses correctly, a positive indication should appear. You’ll need functions to check if the\n",
    "user input is an actual number, to see the difference between the inputted number and the\n",
    "randomly generated numbers, and to then compare the numbers."
   ]
  },
  {
   "cell_type": "code",
   "execution_count": 2,
   "metadata": {},
   "outputs": [
    {
     "name": "stdout",
     "output_type": "stream",
     "text": [
      "too low\n",
      "too low\n",
      "too low\n",
      "too low\n",
      "too low\n",
      "too low\n",
      "too low\n",
      "too low\n",
      "too high\n",
      "too low\n",
      "You got it!\n"
     ]
    }
   ],
   "source": [
    "import random\n",
    "it=random.randint(0, 101)\n",
    "def guess():\n",
    "    x=int(input('Guess a number one through one hundred'))\n",
    "    if x == it:\n",
    "        print(\"You got it!\")\n",
    "    elif x > it:\n",
    "        print(\"too high\")\n",
    "        guess()\n",
    "    else:\n",
    "        print(\"too low\")\n",
    "        guess()\n",
    "guess()"
   ]
  },
  {
   "cell_type": "code",
   "execution_count": 4,
   "metadata": {},
   "outputs": [
    {
     "name": "stdout",
     "output_type": "stream",
     "text": [
      "too high\n",
      "too high\n",
      "too high\n",
      "too high\n",
      "You got it!\n"
     ]
    }
   ],
   "source": [
    "import random\n",
    "num = random.randint(0, 101)\n",
    "def guess1():\n",
    "    while True:\n",
    "        y = int(input('Guess a number one through one hundred: '))\n",
    "        if y == num:\n",
    "            print(\"You got it!\")\n",
    "            break\n",
    "        elif y > num:\n",
    "            print(\"too high\")\n",
    "        else:\n",
    "            print(\"too low\")\n",
    "guess1()"
   ]
  },
  {
   "cell_type": "code",
   "execution_count": null,
   "metadata": {},
   "outputs": [],
   "source": []
  }
 ],
 "metadata": {
  "kernelspec": {
   "display_name": "Python 3",
   "language": "python",
   "name": "python3"
  },
  "language_info": {
   "codemirror_mode": {
    "name": "ipython",
    "version": 3
   },
   "file_extension": ".py",
   "mimetype": "text/x-python",
   "name": "python",
   "nbconvert_exporter": "python",
   "pygments_lexer": "ipython3",
   "version": "3.10.9 (tags/v3.10.9:1dd9be6, Dec  6 2022, 20:01:21) [MSC v.1934 64 bit (AMD64)]"
  },
  "orig_nbformat": 4,
  "vscode": {
   "interpreter": {
    "hash": "3f09339c861e2862702f1f2b08dbbc980c54871604f85fec92bbb47a7afd93b2"
   }
  }
 },
 "nbformat": 4,
 "nbformat_minor": 2
}
