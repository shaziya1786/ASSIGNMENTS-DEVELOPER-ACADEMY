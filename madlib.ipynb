{
 "cells": [
  {
   "attachments": {},
   "cell_type": "markdown",
   "metadata": {},
   "source": [
    "ASSIGNMENT 3:\n",
    "Inspired by Summer Son’s Mad Libs project with Javascript. The program will first prompt the\n",
    "user for a series of inputs a la Mad Libs. For example, a singular noun, an adjective, etc. Then,\n",
    "once all the information has been inputted, the program will take that data and place them into a\n",
    "premade story template. You’ll need prompts for user input, and to then print out the full story at\n",
    "the end with the input included.\n"
   ]
  },
  {
   "cell_type": "code",
   "execution_count": 6,
   "metadata": {},
   "outputs": [
    {
     "name": "stdout",
     "output_type": "stream",
     "text": [
      "Welcome to our Mad Libs generator!\n",
      "Let's begin!\n",
      "It was a very, cold winter day.\n",
      "I woke up to the earthy smell of coffee roasting in the kitchen downstairs.\n",
      "I came downstairs to see if I could  prepare  lunch for myself.\n",
      "So I carried a tray of glasses full of water into the living room.\n",
      "When I got there, I couldn't believe my eye!\n",
      "There were my brother jumping on the sofa!\n",
      "I don't want to play more..\n"
     ]
    }
   ],
   "source": [
    "\n",
    "while True:\n",
    "\tprint(\"Welcome to our Mad Libs generator!\")\n",
    "\tprint(\"Let's begin!\")\n",
    "\n",
    "\tadj_1 = input(\"First adjective: \")\n",
    "\tadj_2 = input(\"Second adjective: \")\n",
    "\tnoun_1 = input(\"noun of your choice:\")\n",
    "\tRoom_1 = input(\"Room in a house: \")\n",
    "\tverb_1 = input(\"Verb (Past Tense): \")\n",
    "\tverb_2 = input(\"Another Verb: \")\n",
    "\tliquid = input(\"A type of liquid: \")\n",
    "\tverbing = input(\"A verb ending in 'ing': \")\n",
    "\tbody_part = input(\"A body part (plural): \")\n",
    "\tnoun_2 = input(\"Another noun (plural): \")\n",
    "\tverbing2 = input(\"A verb ending in 'ing': \")\n",
    "\tnoun_3 = input(\"And lastly, another noun: \")\n",
    "\n",
    "\n",
    "\tprint(\"It was a {}, cold winter day.\".format(adj_1))\n",
    "\tprint(\"I woke up to the {} smell of {} roasting in the {} downstairs.\".format(adj_2, noun_1, Room_1))\n",
    "\tprint(\"I {} downstairs to see if I could  {}  lunch for myself.\".format(verb_1, verb_2))\n",
    "\tprint(\"So I carried a tray of glasses full of {} into the {} room.\".format(liquid,verbing))\n",
    "\tprint(\"When I got there, I couldn't believe my {}!\".format(body_part))\n",
    "\tprint(\"There were {} {} on the {}!\".format(noun_2, verbing2, noun_3))\n",
    "\n",
    "\treplay = input(\"Do you want to play again? y/n :\")\n",
    "\n",
    "\tif replay.lower() == 'y':\n",
    "\t\tprint(\"Let's do it!\")\n",
    "\t\tcontinue\n",
    "\telse:\n",
    "\t\tprint(\"I don't want to play more..\")\n",
    "\t\tbreak"
   ]
  }
 ],
 "metadata": {
  "kernelspec": {
   "display_name": "Python 3",
   "language": "python",
   "name": "python3"
  },
  "language_info": {
   "codemirror_mode": {
    "name": "ipython",
    "version": 3
   },
   "file_extension": ".py",
   "mimetype": "text/x-python",
   "name": "python",
   "nbconvert_exporter": "python",
   "pygments_lexer": "ipython3",
   "version": "3.10.9 (tags/v3.10.9:1dd9be6, Dec  6 2022, 20:01:21) [MSC v.1934 64 bit (AMD64)]"
  },
  "orig_nbformat": 4,
  "vscode": {
   "interpreter": {
    "hash": "3f09339c861e2862702f1f2b08dbbc980c54871604f85fec92bbb47a7afd93b2"
   }
  }
 },
 "nbformat": 4,
 "nbformat_minor": 2
}
